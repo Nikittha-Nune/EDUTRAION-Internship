{
  "nbformat": 4,
  "nbformat_minor": 0,
  "metadata": {
    "colab": {
      "provenance": [],
      "authorship_tag": "ABX9TyN2FuhHA5B2eIo7AR189c8i",
      "include_colab_link": true
    },
    "kernelspec": {
      "name": "python3",
      "display_name": "Python 3"
    },
    "language_info": {
      "name": "python"
    }
  },
  "cells": [
    {
      "cell_type": "markdown",
      "metadata": {
        "id": "view-in-github",
        "colab_type": "text"
      },
      "source": [
        "<a href=\"https://colab.research.google.com/github/Nikittha-Nune/EDUTRAION-Internship/blob/main/Titanic_survival_prediction.ipynb\" target=\"_parent\"><img src=\"https://colab.research.google.com/assets/colab-badge.svg\" alt=\"Open In Colab\"/></a>"
      ]
    },
    {
      "cell_type": "code",
      "source": [
        "import pandas as pd\n",
        "from sklearn.model_selection import train_test_split\n",
        "from sklearn.preprocessing import LabelEncoder\n",
        "from sklearn.ensemble import RandomForestClassifier\n",
        "from sklearn.metrics import accuracy_score\n",
        "\n",
        "\n",
        "df = pd.read_csv(\"/content/Titanic-Dataset.csv\")\n",
        "\n",
        "\n",
        "print(\"Sample data:\")\n",
        "print(df.head())\n",
        "\n",
        "\n",
        "df.drop(['PassengerId', 'Name', 'Ticket', 'Cabin'], axis=1, inplace=True)\n",
        "\n",
        "\n",
        "df['Age'].fillna(df['Age'].median(), inplace=True)\n",
        "df['Embarked'].fillna(df['Embarked'].mode()[0], inplace=True)\n",
        "\n",
        "\n",
        "le = LabelEncoder()\n",
        "df['Sex'] = le.fit_transform(df['Sex'])         # male=1, female=0\n",
        "df['Embarked'] = le.fit_transform(df['Embarked'])  # C=0, Q=1, S=2\n",
        "\n",
        "\n",
        "X = df.drop('Survived', axis=1)\n",
        "y = df['Survived']\n",
        "\n",
        "\n",
        "X_train, X_test, y_train, y_test = train_test_split(X, y, test_size=0.2, random_state=42)\n",
        "\n",
        "\n",
        "model = RandomForestClassifier(n_estimators=100, random_state=42)\n",
        "model.fit(X_train, y_train)\n",
        "\n",
        "\n",
        "predictions = model.predict(X_test)\n",
        "\n",
        "\n",
        "acc = accuracy_score(y_test, predictions)\n",
        "print(f\"\\nModel Accuracy: {acc * 100:.2f}%\")\n",
        "\n",
        "\n",
        "print(\"\\nPredictions (first 10 passengers in test set):\")\n",
        "for i in range(25):\n",
        "    result = \"Survived\" if predictions[i] == 1 else \"Not Survived\"\n",
        "    print(f\"Passenger {i+1}: {result}\")\n"
      ],
      "metadata": {
        "colab": {
          "base_uri": "https://localhost:8080/"
        },
        "id": "HSuRSvsaIB1W",
        "outputId": "1d2c4ddd-5b09-43df-c4f3-35a2cb7920e5"
      },
      "execution_count": 9,
      "outputs": [
        {
          "output_type": "stream",
          "name": "stdout",
          "text": [
            "Sample data:\n",
            "   PassengerId  Survived  Pclass  \\\n",
            "0            1         0       3   \n",
            "1            2         1       1   \n",
            "2            3         1       3   \n",
            "3            4         1       1   \n",
            "4            5         0       3   \n",
            "\n",
            "                                                Name     Sex   Age  SibSp  \\\n",
            "0                            Braund, Mr. Owen Harris    male  22.0      1   \n",
            "1  Cumings, Mrs. John Bradley (Florence Briggs Th...  female  38.0      1   \n",
            "2                             Heikkinen, Miss. Laina  female  26.0      0   \n",
            "3       Futrelle, Mrs. Jacques Heath (Lily May Peel)  female  35.0      1   \n",
            "4                           Allen, Mr. William Henry    male  35.0      0   \n",
            "\n",
            "   Parch            Ticket     Fare Cabin Embarked  \n",
            "0      0         A/5 21171   7.2500   NaN        S  \n",
            "1      0          PC 17599  71.2833   C85        C  \n",
            "2      0  STON/O2. 3101282   7.9250   NaN        S  \n",
            "3      0            113803  53.1000  C123        S  \n",
            "4      0            373450   8.0500   NaN        S  \n"
          ]
        },
        {
          "output_type": "stream",
          "name": "stderr",
          "text": [
            "/tmp/ipython-input-9-231800922.py:18: FutureWarning: A value is trying to be set on a copy of a DataFrame or Series through chained assignment using an inplace method.\n",
            "The behavior will change in pandas 3.0. This inplace method will never work because the intermediate object on which we are setting values always behaves as a copy.\n",
            "\n",
            "For example, when doing 'df[col].method(value, inplace=True)', try using 'df.method({col: value}, inplace=True)' or df[col] = df[col].method(value) instead, to perform the operation inplace on the original object.\n",
            "\n",
            "\n",
            "  df['Age'].fillna(df['Age'].median(), inplace=True)\n",
            "/tmp/ipython-input-9-231800922.py:19: FutureWarning: A value is trying to be set on a copy of a DataFrame or Series through chained assignment using an inplace method.\n",
            "The behavior will change in pandas 3.0. This inplace method will never work because the intermediate object on which we are setting values always behaves as a copy.\n",
            "\n",
            "For example, when doing 'df[col].method(value, inplace=True)', try using 'df.method({col: value}, inplace=True)' or df[col] = df[col].method(value) instead, to perform the operation inplace on the original object.\n",
            "\n",
            "\n",
            "  df['Embarked'].fillna(df['Embarked'].mode()[0], inplace=True)\n"
          ]
        },
        {
          "output_type": "stream",
          "name": "stdout",
          "text": [
            "\n",
            "Model Accuracy: 82.12%\n",
            "\n",
            "Predictions (first 10 passengers in test set):\n",
            "Passenger 1: Not Survived\n",
            "Passenger 2: Not Survived\n",
            "Passenger 3: Not Survived\n",
            "Passenger 4: Survived\n",
            "Passenger 5: Not Survived\n",
            "Passenger 6: Survived\n",
            "Passenger 7: Survived\n",
            "Passenger 8: Not Survived\n",
            "Passenger 9: Survived\n",
            "Passenger 10: Survived\n",
            "Passenger 11: Not Survived\n",
            "Passenger 12: Not Survived\n",
            "Passenger 13: Not Survived\n",
            "Passenger 14: Not Survived\n",
            "Passenger 15: Not Survived\n",
            "Passenger 16: Survived\n",
            "Passenger 17: Not Survived\n",
            "Passenger 18: Survived\n",
            "Passenger 19: Not Survived\n",
            "Passenger 20: Not Survived\n",
            "Passenger 21: Not Survived\n",
            "Passenger 22: Survived\n",
            "Passenger 23: Not Survived\n",
            "Passenger 24: Not Survived\n",
            "Passenger 25: Not Survived\n"
          ]
        }
      ]
    }
  ]
}