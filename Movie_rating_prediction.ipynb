{
  "nbformat": 4,
  "nbformat_minor": 0,
  "metadata": {
    "colab": {
      "provenance": [],
      "authorship_tag": "ABX9TyPr/9aOh7YGaRqQ/xU45TOI",
      "include_colab_link": true
    },
    "kernelspec": {
      "name": "python3",
      "display_name": "Python 3"
    },
    "language_info": {
      "name": "python"
    }
  },
  "cells": [
    {
      "cell_type": "markdown",
      "metadata": {
        "id": "view-in-github",
        "colab_type": "text"
      },
      "source": [
        "<a href=\"https://colab.research.google.com/github/Nikittha-Nune/EDUTRAION-Internship/blob/main/Movie_rating_prediction.ipynb\" target=\"_parent\"><img src=\"https://colab.research.google.com/assets/colab-badge.svg\" alt=\"Open In Colab\"/></a>"
      ]
    },
    {
      "cell_type": "code",
      "execution_count": 8,
      "metadata": {
        "colab": {
          "base_uri": "https://localhost:8080/"
        },
        "id": "MfFl4fFcdvGA",
        "outputId": "d8ce407d-74ab-4b21-ef82-493496ca80bc"
      },
      "outputs": [
        {
          "output_type": "stream",
          "name": "stdout",
          "text": [
            "Sample Data:\n",
            "                                  Name    Year Duration            Genre  \\\n",
            "0                                         NaN      NaN            Drama   \n",
            "1  #Gadhvi (He thought he was Gandhi) -2019.0  109 min            Drama   \n",
            "2                         #Homecoming -2021.0   90 min   Drama, Musical   \n",
            "3                             #Yaaram -2019.0  110 min  Comedy, Romance   \n",
            "4                   ...And Once Again -2010.0  105 min            Drama   \n",
            "\n",
            "   Rating Votes            Director       Actor 1             Actor 2  \\\n",
            "0     NaN   NaN       J.S. Randhawa      Manmauji              Birbal   \n",
            "1     7.0     8       Gaurav Bakshi  Rasika Dugal      Vivek Ghamande   \n",
            "2     NaN   NaN  Soumyajit Majumdar  Sayani Gupta   Plabita Borthakur   \n",
            "3     4.4    35          Ovais Khan       Prateik          Ishita Raj   \n",
            "4     NaN   NaN        Amol Palekar  Rajat Kapoor  Rituparna Sengupta   \n",
            "\n",
            "           Actor 3  \n",
            "0  Rajendra Bhatia  \n",
            "1    Arvind Jangid  \n",
            "2       Roy Angana  \n",
            "3  Siddhant Kapoor  \n",
            "4      Antara Mali  \n",
            "\n",
            "Mean Squared Error: 1.62\n",
            "\n",
            "Predicted vs Actual Ratings (first 10):\n",
            "Actual: 3.3, Predicted: 5.6\n",
            "Actual: 5.3, Predicted: 5.6\n",
            "Actual: 5.7, Predicted: 5.9\n",
            "Actual: 7.2, Predicted: 6.3\n",
            "Actual: 3.5, Predicted: 4.8\n",
            "Actual: 7.2, Predicted: 5.8\n",
            "Actual: 3.8, Predicted: 5.8\n",
            "Actual: 6.9, Predicted: 5.8\n",
            "Actual: 5.2, Predicted: 6.1\n",
            "Actual: 7.4, Predicted: 5.6\n"
          ]
        }
      ],
      "source": [
        "import pandas as pd\n",
        "from sklearn.model_selection import train_test_split\n",
        "from sklearn.preprocessing import OneHotEncoder\n",
        "from sklearn.linear_model import LinearRegression\n",
        "from sklearn.metrics import mean_squared_error\n",
        "from sklearn.compose import ColumnTransformer\n",
        "from sklearn.pipeline import Pipeline\n",
        "from sklearn.impute import SimpleImputer\n",
        "\n",
        "df = pd.read_csv(\"/content/IMDb_Movies_India.csv\",encoding='latin1')\n",
        "print(\"Sample Data:\\n\", df.head())\n",
        "df = df.dropna(subset=['Rating'])\n",
        "\n",
        "X = df[['Genre', 'Director', 'Actor 1', 'Actor 2', 'Actor 3']]\n",
        "y = df['Rating']\n",
        "\n",
        "categorical_features = ['Genre', 'Director', 'Actor 1', 'Actor 2', 'Actor 3']\n",
        "categorical_transformer = Pipeline(steps=[\n",
        "    ('imputer', SimpleImputer(strategy='constant', fill_value='Unknown')),\n",
        "    ('onehot', OneHotEncoder(handle_unknown='ignore', max_categories=20))\n",
        "])\n",
        "\n",
        "preprocessor = ColumnTransformer(\n",
        "    transformers=[\n",
        "        ('cat', categorical_transformer, categorical_features)\n",
        "   ]\n",
        ")\n",
        "\n",
        "model = Pipeline(steps=[\n",
        "  ('preprocessor', preprocessor),\n",
        "  ('regressor', LinearRegression())\n",
        "])\n",
        "\n",
        "X_train, X_test, y_train, y_test = train_test_split(X, y, test_size=0.2, random_state=42)\n",
        "model.fit(X_train, y_train)\n",
        "y_pred = model.predict(X_test)\n",
        "mse = mean_squared_error(y_test, y_pred)\n",
        "print(f\"\\nMean Squared Error: {mse:.2f}\")\n",
        "\n",
        "print(\"\\nPredicted vs Actual Ratings (first 10):\")\n",
        "for actual, predicted in zip(y_test[:10], y_pred[:10]):\n",
        "  print(f\"Actual: {actual:.1f}, Predicted: {predicted:.1f}\")\n"
      ]
    }
  ]
}